{
 "cells": [
  {
   "cell_type": "code",
   "execution_count": 64,
   "metadata": {},
   "outputs": [],
   "source": [
    "import pandas as pd\n",
    "import glob\n",
    "import os"
   ]
  },
  {
   "cell_type": "code",
   "execution_count": null,
   "metadata": {},
   "outputs": [],
   "source": [
    "# Processing Getro Data\n",
    "\n",
    "def processGetro():\n",
    "    path = r'D:\\GitHub\\crypto-jobs-scraper\\node-scraper\\data\\greto'\n",
    "    all_files = glob.glob(os.path.join(path , \"*.csv\"))\n",
    "\n",
    "    li = []\n",
    "\n",
    "    for filename in all_files:\n",
    "        df = pd.read_csv(filename, index_col=None, header=0)\n",
    "        li.append(df)\n",
    "\n",
    "    frame = pd.concat(li, axis=0, ignore_index=True)\n",
    "    deduplicated = (frame.drop_duplicates(subset='Job Link', keep='first', inplace=False)\n",
    "                    .drop_duplicates(subset='Getro ObjectID', keep='first', inplace=False))\n",
    "\n",
    "    header = [\"Company Name\", \"Job Link\", \"Job Location\", \"Job Title\", \"Salary Range\", \"Tags\", \"Posted Before\"]\n",
    "    deduplicated.to_csv(r'D:\\GitHub\\crypto-jobs-scraper\\data\\getro\\all_jobs.csv', columns = header, index=False)\n",
    "    \n",
    "processGetro()"
   ]
  },
  {
   "cell_type": "code",
   "execution_count": 71,
   "metadata": {},
   "outputs": [],
   "source": [
    "# Processing Consider Data\n",
    "\n",
    "def processConsider():\n",
    "    path = r'D:\\GitHub\\crypto-jobs-scraper\\node-scraper\\data\\consider'\n",
    "    all_files = glob.glob(os.path.join(path , \"*.csv\"))\n",
    "\n",
    "    li = []\n",
    "\n",
    "    for filename in all_files:\n",
    "        df = pd.read_csv(filename, index_col=None, header=0)\n",
    "        li.append(df)\n",
    "\n",
    "    frame = pd.concat(li, axis=0, ignore_index=True)\n",
    "    \n",
    "    deduplicated = (frame.drop_duplicates(subset='Job Link', keep='first', inplace=False)\n",
    "                    .drop_duplicates(subset='Consider JobID', keep='first', inplace=False))\n",
    "    header = [\"Company Name\", \"Job Link\", \"Job Location\", \"Job Title\", \"Salary Range\", \"Tags\", \"Posted Before\"]\n",
    "    deduplicated.to_csv(r'D:\\GitHub\\crypto-jobs-scraper\\data\\consider\\all_jobs.csv', columns = header, index=False)\n",
    "    \n",
    "processConsider()"
   ]
  }
 ],
 "metadata": {
  "kernelspec": {
   "display_name": "Python 3",
   "language": "python",
   "name": "python3"
  },
  "language_info": {
   "codemirror_mode": {
    "name": "ipython",
    "version": 3
   },
   "file_extension": ".py",
   "mimetype": "text/x-python",
   "name": "python",
   "nbconvert_exporter": "python",
   "pygments_lexer": "ipython3",
   "version": "3.8.3"
  }
 },
 "nbformat": 4,
 "nbformat_minor": 4
}
