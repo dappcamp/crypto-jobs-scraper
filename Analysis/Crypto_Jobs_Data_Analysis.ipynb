{
  "nbformat": 4,
  "nbformat_minor": 0,
  "metadata": {
    "colab": {
      "name": "Crypto_Jobs_Data_Analysis.ipynb",
      "provenance": [],
      "collapsed_sections": [
        "uKtPqn66aM-6",
        "z8cId7RMaWpF",
        "_MeDgIque3X-",
        "0vyAZjeSgsF5",
        "eUQlBTq1erep"
      ]
    },
    "kernelspec": {
      "name": "python3",
      "display_name": "Python 3"
    },
    "language_info": {
      "name": "python"
    }
  },
  "cells": [
    {
      "cell_type": "markdown",
      "source": [
        "## **Setup**"
      ],
      "metadata": {
        "id": "uKtPqn66aM-6"
      }
    },
    {
      "cell_type": "code",
      "execution_count": 1,
      "metadata": {
        "id": "8iENtzN1ZvP3",
        "colab": {
          "base_uri": "https://localhost:8080/"
        },
        "outputId": "8fd3bc46-898d-4b57-819e-451d5bbfd02c"
      },
      "outputs": [
        {
          "output_type": "stream",
          "name": "stdout",
          "text": [
            "Cloning into 'crypto-jobs-scraper'...\n",
            "remote: Enumerating objects: 619, done.\u001b[K\n",
            "remote: Counting objects: 100% (619/619), done.\u001b[K\n",
            "remote: Compressing objects: 100% (609/609), done.\u001b[K\n",
            "remote: Total 619 (delta 9), reused 618 (delta 8), pack-reused 0\u001b[K\n",
            "Receiving objects: 100% (619/619), 1004.30 KiB | 715.00 KiB/s, done.\n",
            "Resolving deltas: 100% (9/9), done.\n"
          ]
        }
      ],
      "source": [
        "!git clone https://github.com/shubham-kanodia/crypto-jobs-scraper.git\n",
        "\n",
        "DATA_DIR_PATH = \"crypto-jobs-scraper/data\""
      ]
    },
    {
      "cell_type": "markdown",
      "source": [
        "## Data Loading"
      ],
      "metadata": {
        "id": "z8cId7RMaWpF"
      }
    },
    {
      "cell_type": "code",
      "source": [
        "import csv\n",
        "from glob import glob\n",
        "import pandas as pd\n",
        "import matplotlib.pyplot as plt\n",
        "\n",
        "web3_careers_company_files = glob(f\"{DATA_DIR_PATH}/web3_careers/page_data/*.csv\")"
      ],
      "metadata": {
        "id": "YisazwH_Z-Cx"
      },
      "execution_count": 2,
      "outputs": []
    },
    {
      "cell_type": "code",
      "source": [
        "plt.rcParams['figure.figsize'] = [12, 8]"
      ],
      "metadata": {
        "id": "Suxk-OxtmiXH"
      },
      "execution_count": 3,
      "outputs": []
    },
    {
      "cell_type": "code",
      "source": [
        "jobs = []\n",
        "\n",
        "for web3_careers_company_file in web3_careers_company_files:\n",
        "  with open(web3_careers_company_file, \"r\", newline=\"\") as file:\n",
        "    reader = csv.reader(file)\n",
        "    next(reader)\n",
        "\n",
        "    for row in reader:\n",
        "      job = {\n",
        "          \"company_name\": row[0],\n",
        "          \"job_link\": row[1],\n",
        "          \"job_title\": row[2],\n",
        "          \"tags\": row[4],\n",
        "          \"time_elapsed\": row[5]\n",
        "      }\n",
        "      jobs.append(job)\n",
        "\n",
        "with open(f\"{DATA_DIR_PATH}/crypto_jobs_list/all_jobs.csv\", \"r\", newline=\"\") as file:\n",
        "  reader = csv.reader(file)\n",
        "  next(reader)\n",
        "\n",
        "  for row in reader:\n",
        "    job = {\n",
        "          \"company_name\": row[0],\n",
        "          \"job_title\": row[1],\n",
        "          \"tags\": row[2],\n",
        "          \"time_elapsed\": row[3] if not row[3][-1] == \"m\" else row[3] + \"o\"\n",
        "      }\n",
        "    jobs.append(job)"
      ],
      "metadata": {
        "id": "Kjd9mArMaLFC"
      },
      "execution_count": 4,
      "outputs": []
    },
    {
      "cell_type": "code",
      "source": [
        "dataframe = pd.DataFrame({\n",
        "    \"company_name\": [job[\"company_name\"] for job in jobs],\n",
        "    \"job_title\": [job[\"job_title\"] for job in jobs],\n",
        "    \"tags\": [job[\"tags\"] for job in jobs],\n",
        "    \"time_elapsed\": [job[\"time_elapsed\"] for job in jobs]\n",
        "})"
      ],
      "metadata": {
        "id": "vvaqZasfdHVi"
      },
      "execution_count": 5,
      "outputs": []
    },
    {
      "cell_type": "code",
      "source": [
        "jobs_with_salaries = []\n",
        "\n",
        "for web3_careers_company_file in web3_careers_company_files:\n",
        "  with open(web3_careers_company_file, \"r\", newline=\"\") as file:\n",
        "    reader = csv.reader(file)\n",
        "    next(reader)\n",
        "\n",
        "    for row in reader:\n",
        "      if len(row[3].split(\"-\")) >= 2:\n",
        "        job = {\n",
        "            \"company_name\": row[0],\n",
        "            \"job_title\": row[2],\n",
        "            \"salary_range\": row[3],\n",
        "            \"tags\": row[4],\n",
        "            \"time_elapsed\": row[5]\n",
        "        }\n",
        "        jobs_with_salaries.append(job)"
      ],
      "metadata": {
        "id": "GFWCo5X-lLoF"
      },
      "execution_count": 6,
      "outputs": []
    },
    {
      "cell_type": "code",
      "source": [
        "dataframe_with_salaries = pd.DataFrame({\n",
        "    \"company_name\": [job[\"company_name\"] for job in jobs_with_salaries],\n",
        "    \"job_title\": [job[\"job_title\"] for job in jobs_with_salaries],\n",
        "    \"tags\": [job[\"tags\"] for job in jobs_with_salaries],\n",
        "    \"min_salary\": [job[\"salary_range\"].split(\"-\")[0].strip().rstrip(\"k\").lstrip(\"$\") for job in jobs_with_salaries],\n",
        "    \"max_salary\": [job[\"salary_range\"].split(\"-\")[1].strip().rstrip(\"k\").lstrip(\"$\") for job in jobs_with_salaries],\n",
        "    \"time_elapsed\": [job[\"time_elapsed\"] for job in jobs_with_salaries]\n",
        "})"
      ],
      "metadata": {
        "id": "v4zJfUVOlS0r"
      },
      "execution_count": 7,
      "outputs": []
    },
    {
      "cell_type": "markdown",
      "source": [
        "**Total Jobs:** 17268\n",
        "\n"
      ],
      "metadata": {
        "id": "tl6UmEvdcp3R"
      }
    },
    {
      "cell_type": "markdown",
      "source": [
        "## Analysis"
      ],
      "metadata": {
        "id": "9KFBAhg_eWiu"
      }
    },
    {
      "cell_type": "markdown",
      "source": [
        "### Smart Contract Jobs\n"
      ],
      "metadata": {
        "id": "_MeDgIque3X-"
      }
    },
    {
      "cell_type": "markdown",
      "source": [
        "#### Smart contract engineering jobs insights\n",
        "\n",
        "**Total smart contract jobs when filtered with tags : `1774`**\n",
        "\n",
        "- smart contract\n",
        "- solidity\n",
        "- rust\n",
        "\n",
        "**How many new jobs in last x number of days/month/year:**\n",
        "\n",
        "- 7d:\t54\n",
        "- 1m:\t342\n",
        "- 3m:\t833\n",
        "- 6m:\t1723\n",
        "- 1y:\t1774\n",
        "\n",
        "**Average salary of smart contract engineer is - `$82k - $170k`**"
      ],
      "metadata": {
        "id": "24mf9udXf-9b"
      }
    },
    {
      "cell_type": "code",
      "source": [
        "smart_contract_jobs = dataframe[dataframe[\"tags\"].str.contains(\"smart contract\") | dataframe[\"tags\"].str.contains(\"solidity\") | dataframe[\"tags\"].str.contains(\"rust\")]\n",
        "smart_contract_rows_with_salaries = dataframe_with_salaries[dataframe_with_salaries[\"tags\"].str.contains(\"smart contract\") | dataframe_with_salaries[\"tags\"].str.contains(\"solidity\") | dataframe_with_salaries[\"tags\"].str.contains(\"rust\")]\n",
        "\n",
        "f\"Total smart contract jobs: {len(smart_contract_jobs)}\""
      ],
      "metadata": {
        "colab": {
          "base_uri": "https://localhost:8080/",
          "height": 35
        },
        "id": "ErSK1Ypbe2fp",
        "outputId": "1b4572d5-336e-46ce-e0a9-5137ebb40fef"
      },
      "execution_count": 8,
      "outputs": [
        {
          "output_type": "execute_result",
          "data": {
            "text/plain": [
              "'Total smart contract jobs: 1774'"
            ],
            "application/vnd.google.colaboratory.intrinsic+json": {
              "type": "string"
            }
          },
          "metadata": {},
          "execution_count": 8
        }
      ]
    },
    {
      "cell_type": "code",
      "source": [
        "def get_time_period_type(time_period):\n",
        "  symbol = \"\"\n",
        "  for char in time_period:\n",
        "    if not char.isdigit():\n",
        "      symbol += char\n",
        "  return symbol\n",
        "\n",
        "def check_lesser_than(lesser, greater):\n",
        "\n",
        "  symbol_lesser = get_time_period_type(lesser)\n",
        "  symbol_greater = get_time_period_type(greater)\n",
        "\n",
        "  precedence = ['m', 'h', 'd', 'mo', 'y']\n",
        "  if precedence.index(symbol_lesser) > precedence.index(symbol_greater):\n",
        "    return False\n",
        "  elif precedence.index(symbol_lesser) == precedence.index(symbol_greater):\n",
        "\n",
        "    if int(lesser.rstrip(symbol_lesser)) <= int(greater.rstrip(symbol_greater)):\n",
        "      return True\n",
        "    else:\n",
        "      return False\n",
        "  else:\n",
        "    return True\n",
        "\n",
        "def cound_earlier_rows(time_period):\n",
        "  freq = 0\n",
        "\n",
        "  time_elapsed_values = smart_contract_jobs[\"time_elapsed\"].values\n",
        "  for time_elapsed_value in time_elapsed_values:\n",
        "    try:\n",
        "      if check_lesser_than(time_elapsed_value, time_period):\n",
        "        freq += 1\n",
        "    except Exception as exp:\n",
        "      print(exp)\n",
        "  \n",
        "  return freq\n"
      ],
      "metadata": {
        "id": "pIfoxUIznzx8"
      },
      "execution_count": 9,
      "outputs": []
    },
    {
      "cell_type": "code",
      "source": [
        "time_periods = [\"7d\", \"1mo\", \"3mo\", \"6mo\", \"1y\"]\n",
        "\n",
        "time_period_freq = {}\n",
        "\n",
        "for time_period in time_periods:\n",
        "  time_period_freq[time_period] = cound_earlier_rows(time_period)\n",
        "\n",
        "time_period_data = pd.DataFrame(time_period_freq.items(), columns=[\"Time Period\", \"Frequency\"], index=None)"
      ],
      "metadata": {
        "id": "eNuikuICqA4u"
      },
      "execution_count": 10,
      "outputs": []
    },
    {
      "cell_type": "code",
      "source": [
        "fig, ax = plt.subplots()\n",
        "time_period_data.plot(ax=ax, x=\"Time Period\", kind=\"bar\")"
      ],
      "metadata": {
        "colab": {
          "base_uri": "https://localhost:8080/",
          "height": 526
        },
        "id": "Z3ZpexLrseU0",
        "outputId": "61bfccdb-820f-46f2-caff-0c545b5ce129"
      },
      "execution_count": 11,
      "outputs": [
        {
          "output_type": "execute_result",
          "data": {
            "text/plain": [
              "<matplotlib.axes._subplots.AxesSubplot at 0x7fe58379b510>"
            ]
          },
          "metadata": {},
          "execution_count": 11
        },
        {
          "output_type": "display_data",
          "data": {
            "text/plain": [
              "<Figure size 864x576 with 1 Axes>"
            ],
            "image/png": "[encoded data removed]"
          },
          "metadata": {
            "needs_background": "light"
          }
        }
      ]
    },
    {
      "cell_type": "code",
      "source": [
        "fig, ax = plt.subplots()\n",
        "smart_contract_jobs[\"company_name\"].value_counts()[:10].plot(ax=ax, kind='bar')"
      ],
      "metadata": {
        "colab": {
          "base_uri": "https://localhost:8080/",
          "height": 585
        },
        "id": "jitFp1piulOl",
        "outputId": "d05476ad-f724-4076-ffeb-c55733782fb6"
      },
      "execution_count": 12,
      "outputs": [
        {
          "output_type": "execute_result",
          "data": {
            "text/plain": [
              "<matplotlib.axes._subplots.AxesSubplot at 0x7fe5835eea10>"
            ]
          },
          "metadata": {},
          "execution_count": 12
        },
        {
          "output_type": "display_data",
          "data": {
            "text/plain": [
              "<Figure size 864x576 with 1 Axes>"
            ],
            "image/png": "[encoded data removed]"
          },
          "metadata": {
            "needs_background": "light"
          }
        }
      ]
    },
    {
      "cell_type": "code",
      "source": [
        "avg_min_salary = int(smart_contract_rows_with_salaries[\"min_salary\"].astype(float).mean())\n",
        "avg_max_salary = int(smart_contract_rows_with_salaries[\"max_salary\"].astype(float).mean())\n",
        "\n",
        "(avg_min_salary, avg_max_salary)"
      ],
      "metadata": {
        "colab": {
          "base_uri": "https://localhost:8080/"
        },
        "id": "zB62azhZoKOm",
        "outputId": "a82997af-b871-4491-b144-ff91f9e8e706"
      },
      "execution_count": 13,
      "outputs": [
        {
          "output_type": "execute_result",
          "data": {
            "text/plain": [
              "(82, 170)"
            ]
          },
          "metadata": {},
          "execution_count": 13
        }
      ]
    },
    {
      "cell_type": "markdown",
      "source": [
        "### Jobs filtered with each tag"
      ],
      "metadata": {
        "id": "0vyAZjeSgsF5"
      }
    },
    {
      "cell_type": "code",
      "source": [
        "tags_column_values = list(dataframe[\"tags\"].values)\n",
        "\n",
        "tags = []\n",
        "for tags_column_value in tags_column_values:\n",
        "  tags.extend(tags_column_value.split(\":\"))\n",
        "\n",
        "tags = set(tags)\n",
        "tags.remove(\"\")"
      ],
      "metadata": {
        "id": "OgQefi86hOSe"
      },
      "execution_count": 14,
      "outputs": []
    },
    {
      "cell_type": "code",
      "source": [
        "def count_tag(tag):\n",
        "  tags_column_values = list(dataframe[\"tags\"].values)\n",
        "  freq = 0\n",
        "\n",
        "  for tags_column_value in tags_column_values:\n",
        "    if tag in tags_column_value.split(\":\"):\n",
        "      freq += 1\n",
        "\n",
        "  return freq\n",
        "\n",
        "tag_frequency = {}\n",
        "\n",
        "for tag in tags:\n",
        "  tag_frequency[tag] = count_tag(tag)"
      ],
      "metadata": {
        "id": "IEplQGY7hvU6"
      },
      "execution_count": 15,
      "outputs": []
    },
    {
      "cell_type": "code",
      "source": [
        "tags_frequency_df = pd.DataFrame(tag_frequency.items(), columns=[\"tag\", \"frequency\"], index=None)"
      ],
      "metadata": {
        "id": "tikWXVlfiVQX"
      },
      "execution_count": 16,
      "outputs": []
    },
    {
      "cell_type": "code",
      "source": [
        "fig, ax = plt.subplots()\n",
        "tags_frequency_df.sort_values(by=\"frequency\", ascending=False)[:30].plot(ax=ax, x=\"tag\", kind='bar')"
      ],
      "metadata": {
        "colab": {
          "base_uri": "https://localhost:8080/",
          "height": 592
        },
        "id": "Puw6KzbBiyhi",
        "outputId": "1d07350b-746e-45b2-a12a-d39bb3d5d44b"
      },
      "execution_count": 17,
      "outputs": [
        {
          "output_type": "execute_result",
          "data": {
            "text/plain": [
              "<matplotlib.axes._subplots.AxesSubplot at 0x7fe58314eb90>"
            ]
          },
          "metadata": {},
          "execution_count": 17
        },
        {
          "output_type": "display_data",
          "data": {
            "text/plain": [
              "<Figure size 864x576 with 1 Axes>"
            ],
            "image/png": "[encoded data removed]"
          },
          "metadata": {
            "needs_background": "light"
          }
        }
      ]
    },
    {
      "cell_type": "markdown",
      "source": [
        "### Companies with most blockchain jobs"
      ],
      "metadata": {
        "id": "eUQlBTq1erep"
      }
    },
    {
      "cell_type": "code",
      "source": [
        "fig, ax = plt.subplots()\n",
        "dataframe[\"company_name\"].value_counts()[:20].plot(ax=ax, kind='bar')"
      ],
      "metadata": {
        "colab": {
          "base_uri": "https://localhost:8080/",
          "height": 643
        },
        "id": "ypTsOhAtbC_j",
        "outputId": "8970a52e-16a6-4151-cc0d-e3dd2a02a4aa"
      },
      "execution_count": 18,
      "outputs": [
        {
          "output_type": "execute_result",
          "data": {
            "text/plain": [
              "<matplotlib.axes._subplots.AxesSubplot at 0x7fe58305af50>"
            ]
          },
          "metadata": {},
          "execution_count": 18
        },
        {
          "output_type": "display_data",
          "data": {
            "text/plain": [
              "<Figure size 864x576 with 1 Axes>"
            ],
            "image/png": "[encoded data removed]"
          },
          "metadata": {
            "needs_background": "light"
          }
        }
      ]
    },
    {
      "cell_type": "code",
      "source": [
        ""
      ],
      "metadata": {
        "id": "FmfTVqnxeVBN"
      },
      "execution_count": null,
      "outputs": []
    }
  ]
}